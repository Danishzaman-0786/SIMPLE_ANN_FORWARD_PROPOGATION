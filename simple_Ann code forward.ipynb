{
  "nbformat": 4,
  "nbformat_minor": 0,
  "metadata": {
    "colab": {
      "provenance": [],
      "authorship_tag": "ABX9TyOJ5VzK8ISmj/FMf5gzSWk4",
      "include_colab_link": true
    },
    "kernelspec": {
      "name": "python3",
      "display_name": "Python 3"
    },
    "language_info": {
      "name": "python"
    }
  },
  "cells": [
    {
      "cell_type": "markdown",
      "metadata": {
        "id": "view-in-github",
        "colab_type": "text"
      },
      "source": [
        "<a href=\"https://colab.research.google.com/github/Danishzaman-0786/SIMPLE_ANN_FORWARD_PROPOGATION/blob/main/simple_Ann%20code%20forward.ipynb\" target=\"_parent\"><img src=\"https://colab.research.google.com/assets/colab-badge.svg\" alt=\"Open In Colab\"/></a>"
      ]
    },
    {
      "cell_type": "code",
      "source": [
        "#simple nural network\n",
        "import torch as t\n",
        "import torch.nn as nn\n",
        "class Simple_nn(nn.Module):\n",
        "  def __init__(self,features):\n",
        "    super().__init__()\n",
        "    #ask,what are you add more layer\n",
        "    self.hidden_layer=int(input(\"Numbers of Hidden_layes\"))\n",
        "    if self.hidden_layer==1:\n",
        "      self.neurons=int(input(\"Numbers of neurons\"))\n",
        "      if self.neurons==1:\n",
        "        self.l1=nn.Linear(features,self.neurons)\n",
        "        self.sig_1=nn.Sigmoid()\n",
        "      else:\n",
        "        self.l1=nn.Linear(features,self.neurons)\n",
        "        self.Rellu=nn.ReLU()\n",
        "        self.l2=nn.Linear(self.neurons,1)\n",
        "        self.sig_1=nn.Sigmoid()\n",
        "    elif self.hidden_layer==2:\n",
        "        self.first_hidden_laye=int(input(\"first_hidden_laye_numbers of neurons\"))\n",
        "        #print(self.first_hidden_laye)\n",
        "        self.neurons=self.first_hidden_laye\n",
        "        #print(self.neurons)\n",
        "      # if self.neurons==self.neurons:\n",
        "        self.l1=nn.Linear(features,self.neurons)\n",
        "        print(self.l1)\n",
        "        self.Rellu=nn.ReLU()\n",
        "        self.second_hidden_laye=int(input(\"second_hidden_laye_numbers of neurons\"))\n",
        "        self.neurons2=self.second_hidden_laye\n",
        "        self.l2=nn.Linear(self.neurons,self.neurons2)\n",
        "        self.Rellu1=nn.ReLU()\n",
        "        self.l3=nn.Linear(self.neurons2,1)\n",
        "        self.sig_1=nn.Sigmoid()\n",
        "  def forward_pass(self,x):\n",
        "    if self.hidden_layer==1 and self.neurons==1:\n",
        "      z1=self.l1(x)\n",
        "      return self.sig_1(z1)\n",
        "    elif self.hidden_layer==1 and self.neurons>1:\n",
        "      z1=self.l1(x)\n",
        "      relu1=self.Rellu(z1)\n",
        "      y_pred=self.sig_1(relu1)\n",
        "    elif  self.hidden_layer==2:\n",
        "      z1=self.l1(x)\n",
        "      relu1=self.Rellu(z1)\n",
        "      z2=self.l2(relu1)\n",
        "      relu2=self.Rellu1(z2)\n",
        "      z3=self.l3(relu2)\n",
        "      return self.sig_1(z3)\n",
        "\n",
        "\n",
        "\n",
        "\n",
        "\n",
        "\n",
        "\n",
        "\n",
        "     # else:\n",
        "      ## self.Rellu=t.rellu()\n",
        "      #self.neurons=self.second_hidden_laye\n",
        "\n",
        "\n",
        "\n",
        "\n",
        "\n",
        "\n",
        "\n",
        "\n",
        "\n",
        "\n",
        "\n"
      ],
      "metadata": {
        "id": "dQF_0YERCdUO"
      },
      "execution_count": 6,
      "outputs": []
    },
    {
      "cell_type": "code",
      "source": [
        "data=t.rand(5,4)"
      ],
      "metadata": {
        "id": "bATlsvJ6CtGL"
      },
      "execution_count": 7,
      "outputs": []
    },
    {
      "cell_type": "code",
      "source": [
        "model=Simple_nn(data.shape[1])"
      ],
      "metadata": {
        "colab": {
          "base_uri": "https://localhost:8080/"
        },
        "id": "hygei0gkCw8B",
        "outputId": "dce70037-d91f-42c1-d3dc-e8a6e9244045"
      },
      "execution_count": 8,
      "outputs": [
        {
          "name": "stdout",
          "output_type": "stream",
          "text": [
            "Numbers of Hidden_layes2\n",
            "first_hidden_laye_numbers of neurons2\n",
            "Linear(in_features=4, out_features=2, bias=True)\n",
            "second_hidden_laye_numbers of neurons2\n"
          ]
        }
      ]
    },
    {
      "cell_type": "code",
      "source": [
        "model"
      ],
      "metadata": {
        "colab": {
          "base_uri": "https://localhost:8080/"
        },
        "id": "5fdrx6-BC_QW",
        "outputId": "74c65c27-5d16-4670-e72c-373d201e1118"
      },
      "execution_count": 9,
      "outputs": [
        {
          "output_type": "execute_result",
          "data": {
            "text/plain": [
              "Simple_nn(\n",
              "  (l1): Linear(in_features=4, out_features=2, bias=True)\n",
              "  (Rellu): ReLU()\n",
              "  (l2): Linear(in_features=2, out_features=2, bias=True)\n",
              "  (Rellu1): ReLU()\n",
              "  (l3): Linear(in_features=2, out_features=1, bias=True)\n",
              "  (sig_1): Sigmoid()\n",
              ")"
            ]
          },
          "metadata": {},
          "execution_count": 9
        }
      ]
    },
    {
      "cell_type": "code",
      "source": [
        "model.forward_pass(data)"
      ],
      "metadata": {
        "colab": {
          "base_uri": "https://localhost:8080/"
        },
        "id": "rSEiinJSDIqF",
        "outputId": "1c8b9e19-9e2b-4b9a-907c-3dad29079286"
      },
      "execution_count": 10,
      "outputs": [
        {
          "output_type": "execute_result",
          "data": {
            "text/plain": [
              "tensor([[0.5442],\n",
              "        [0.5461],\n",
              "        [0.5459],\n",
              "        [0.5645],\n",
              "        [0.5589]], grad_fn=<SigmoidBackward0>)"
            ]
          },
          "metadata": {},
          "execution_count": 10
        }
      ]
    },
    {
      "cell_type": "code",
      "source": [
        "!pip install torchinfo"
      ],
      "metadata": {
        "colab": {
          "base_uri": "https://localhost:8080/"
        },
        "id": "wpfbjaXhDR9B",
        "outputId": "eec85b9b-d2e0-44a5-b354-e3e96b5b19d9"
      },
      "execution_count": 16,
      "outputs": [
        {
          "output_type": "stream",
          "name": "stdout",
          "text": [
            "Collecting torchinfo\n",
            "  Downloading torchinfo-1.8.0-py3-none-any.whl.metadata (21 kB)\n",
            "Downloading torchinfo-1.8.0-py3-none-any.whl (23 kB)\n",
            "Installing collected packages: torchinfo\n",
            "Successfully installed torchinfo-1.8.0\n"
          ]
        }
      ]
    },
    {
      "cell_type": "code",
      "source": [
        "from torchinfo import summary as s"
      ],
      "metadata": {
        "id": "OT9EYyY6DUFh"
      },
      "execution_count": 17,
      "outputs": []
    },
    {
      "cell_type": "code",
      "source": [
        "s(model,data_size=(data.shape))"
      ],
      "metadata": {
        "colab": {
          "base_uri": "https://localhost:8080/"
        },
        "id": "H90wgA86DrTL",
        "outputId": "5edca16d-fdbe-4beb-9560-1e37a3217185"
      },
      "execution_count": 18,
      "outputs": [
        {
          "output_type": "execute_result",
          "data": {
            "text/plain": [
              "=================================================================\n",
              "Layer (type:depth-idx)                   Param #\n",
              "=================================================================\n",
              "Simple_nn                                --\n",
              "├─Linear: 1-1                            10\n",
              "├─ReLU: 1-2                              --\n",
              "├─Linear: 1-3                            6\n",
              "├─ReLU: 1-4                              --\n",
              "├─Linear: 1-5                            3\n",
              "├─Sigmoid: 1-6                           --\n",
              "=================================================================\n",
              "Total params: 19\n",
              "Trainable params: 19\n",
              "Non-trainable params: 0\n",
              "================================================================="
            ]
          },
          "metadata": {},
          "execution_count": 18
        }
      ]
    },
    {
      "cell_type": "code",
      "source": [
        "model.l1.weight"
      ],
      "metadata": {
        "colab": {
          "base_uri": "https://localhost:8080/"
        },
        "id": "GVwEJpbnDwxC",
        "outputId": "b0bb98da-acad-4d93-c219-790c89837897"
      },
      "execution_count": 20,
      "outputs": [
        {
          "output_type": "execute_result",
          "data": {
            "text/plain": [
              "Parameter containing:\n",
              "tensor([[ 0.2236, -0.2792,  0.2864,  0.2686],\n",
              "        [ 0.1089,  0.3180, -0.1584, -0.4428]], requires_grad=True)"
            ]
          },
          "metadata": {},
          "execution_count": 20
        }
      ]
    },
    {
      "cell_type": "code",
      "source": [
        "model.l1.bias"
      ],
      "metadata": {
        "colab": {
          "base_uri": "https://localhost:8080/"
        },
        "id": "BpK9MOyQD4jx",
        "outputId": "c2947ec7-5d42-4c14-fc75-11396179ebb2"
      },
      "execution_count": 22,
      "outputs": [
        {
          "output_type": "execute_result",
          "data": {
            "text/plain": [
              "Parameter containing:\n",
              "tensor([-0.2094, -0.2808], requires_grad=True)"
            ]
          },
          "metadata": {},
          "execution_count": 22
        }
      ]
    },
    {
      "cell_type": "code",
      "source": [
        "SIMPLE_ANN_FORWARD_PROPOGATION"
      ],
      "metadata": {
        "id": "42T__XGUD_Ys"
      },
      "execution_count": null,
      "outputs": []
    }
  ]
}